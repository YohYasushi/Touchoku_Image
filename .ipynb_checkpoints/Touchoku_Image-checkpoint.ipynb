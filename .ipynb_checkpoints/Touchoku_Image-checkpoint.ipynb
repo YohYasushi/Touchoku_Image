{
 "cells": [
  {
   "cell_type": "code",
   "execution_count": 2,
   "id": "8c4855c5",
   "metadata": {},
   "outputs": [],
   "source": [
    "import numpy as np"
   ]
  },
  {
   "cell_type": "code",
   "execution_count": 6,
   "id": "facb4269",
   "metadata": {},
   "outputs": [],
   "source": [
    "# 閏年の計算 と 月の日数の計算\n",
    "EndOfMonth = 31"
   ]
  },
  {
   "cell_type": "code",
   "execution_count": 7,
   "id": "e43b9efb",
   "metadata": {},
   "outputs": [],
   "source": [
    "#EndOfMonth 分の0のListの作成　便宜上31で作成\n",
    "\n",
    "DrList = np.repeat(0,EndOfMonth)\n",
    "\n",
    "Add = np.array([2,4,6,8,10,10,10,8,6,4,2,]) \n",
    "\n",
    "# https://numpy.org/doc/stable/reference/generated/numpy.repeat.html"
   ]
  },
  {
   "cell_type": "code",
   "execution_count": 9,
   "id": "1754c3c6",
   "metadata": {},
   "outputs": [
    {
     "data": {
      "text/plain": [
       "(31,)"
      ]
     },
     "execution_count": 9,
     "metadata": {},
     "output_type": "execute_result"
    }
   ],
   "source": [
    "DrList.shape"
   ]
  },
  {
   "cell_type": "code",
   "execution_count": null,
   "id": "f52a7095",
   "metadata": {},
   "outputs": [],
   "source": [
    "# 当直日に応じてずらして足す　どうしたらいい？\n",
    "\n"
   ]
  }
 ],
 "metadata": {
  "kernelspec": {
   "display_name": "Python 3 (ipykernel)",
   "language": "python",
   "name": "python3"
  },
  "language_info": {
   "codemirror_mode": {
    "name": "ipython",
    "version": 3
   },
   "file_extension": ".py",
   "mimetype": "text/x-python",
   "name": "python",
   "nbconvert_exporter": "python",
   "pygments_lexer": "ipython3",
   "version": "3.9.13"
  }
 },
 "nbformat": 4,
 "nbformat_minor": 5
}
