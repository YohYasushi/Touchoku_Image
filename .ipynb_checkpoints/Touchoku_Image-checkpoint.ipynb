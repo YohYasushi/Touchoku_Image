{
 "cells": [
  {
   "cell_type": "code",
   "execution_count": 7,
   "id": "8c4855c5",
   "metadata": {},
   "outputs": [],
   "source": [
    "import numpy as np"
   ]
  },
  {
   "cell_type": "code",
   "execution_count": 8,
   "id": "facb4269",
   "metadata": {},
   "outputs": [],
   "source": [
    "# 閏年の計算 と 月の日数の計算\n",
    "EndOfMonth = 31"
   ]
  },
  {
   "cell_type": "code",
   "execution_count": 9,
   "id": "e43b9efb",
   "metadata": {},
   "outputs": [],
   "source": [
    "#EndOfMonth 分の0のListの作成　便宜上31で作成\n",
    "\n",
    "DrList = [0,0,0,0,0,0,0,0,0,0,0,0,0,0,0,0,0,0,0,0,0,0,0,0,0,0,0,0,0,0,0]"
   ]
  },
  {
   "cell_type": "code",
   "execution_count": 5,
   "id": "611c00d2",
   "metadata": {},
   "outputs": [],
   "source": [
    "#当直前後の当直を避けるための関数\n",
    "#10は当直日 OR 当直の前後　10になるほど当直しない　10が最大\n",
    "def TouchokuAdd():\n",
    "    Add = [2,4,6,8,10,10,10,8,6,4,2,] #山のようになる"
   ]
  }
 ],
 "metadata": {
  "kernelspec": {
   "display_name": "Python 3 (ipykernel)",
   "language": "python",
   "name": "python3"
  },
  "language_info": {
   "codemirror_mode": {
    "name": "ipython",
    "version": 3
   },
   "file_extension": ".py",
   "mimetype": "text/x-python",
   "name": "python",
   "nbconvert_exporter": "python",
   "pygments_lexer": "ipython3",
   "version": "3.9.13"
  }
 },
 "nbformat": 4,
 "nbformat_minor": 5
}
